{
 "cells": [
  {
   "cell_type": "code",
   "execution_count": 133,
   "id": "3e3bd20e-ab81-4105-a882-cc6f482f2572",
   "metadata": {},
   "outputs": [],
   "source": [
    "import pandas as pd\n",
    "import matplotlib.pyplot as plt  \n",
    "import seaborn as sns     \n",
    "import numpy as np\n",
    "import re\n",
    "from collections import Counter\n",
    "from nltk.corpus import stopwords\n",
    "import ast\n",
    "from dateutil.parser import parse\n",
    "from sklearn.feature_extraction.text import ENGLISH_STOP_WORDS\n",
    "from IPython.display import display\n",
    "import warnings\n",
    "import string\n",
    "warnings.filterwarnings(\"ignore\")"
   ]
  },
  {
   "cell_type": "code",
   "execution_count": 134,
   "id": "36d5d950-cc63-4aed-9ec5-1cba0246da78",
   "metadata": {},
   "outputs": [
    {
     "data": {
      "text/html": [
       "<div>\n",
       "<style scoped>\n",
       "    .dataframe tbody tr th:only-of-type {\n",
       "        vertical-align: middle;\n",
       "    }\n",
       "\n",
       "    .dataframe tbody tr th {\n",
       "        vertical-align: top;\n",
       "    }\n",
       "\n",
       "    .dataframe thead th {\n",
       "        text-align: right;\n",
       "    }\n",
       "</style>\n",
       "<table border=\"1\" class=\"dataframe\">\n",
       "  <thead>\n",
       "    <tr style=\"text-align: right;\">\n",
       "      <th></th>\n",
       "      <th>label</th>\n",
       "      <th>Subject</th>\n",
       "      <th>is_forwarded</th>\n",
       "      <th>email_body</th>\n",
       "      <th>subject</th>\n",
       "    </tr>\n",
       "  </thead>\n",
       "  <tbody>\n",
       "    <tr>\n",
       "      <th>0</th>\n",
       "      <td>0</td>\n",
       "      <td>christmas tree farm pictures</td>\n",
       "      <td>0</td>\n",
       "      <td>&lt;NO_BODY&gt;</td>\n",
       "      <td>christmas tree farm pictures</td>\n",
       "    </tr>\n",
       "    <tr>\n",
       "      <th>1</th>\n",
       "      <td>0</td>\n",
       "      <td>re : rankings</td>\n",
       "      <td>0</td>\n",
       "      <td>thank you .</td>\n",
       "      <td>re : rankings</td>\n",
       "    </tr>\n",
       "    <tr>\n",
       "      <th>2</th>\n",
       "      <td>0</td>\n",
       "      <td>leadership development pilot</td>\n",
       "      <td>1</td>\n",
       "      <td>sally : what timing , ask and you shall receiv...</td>\n",
       "      <td>leadership development pilot</td>\n",
       "    </tr>\n",
       "    <tr>\n",
       "      <th>3</th>\n",
       "      <td>0</td>\n",
       "      <td>key dates and impact of upcoming sap implement...</td>\n",
       "      <td>0</td>\n",
       "      <td>over the next few weeks , project apollo and b...</td>\n",
       "      <td>key dates and impact of upcoming sap implement...</td>\n",
       "    </tr>\n",
       "    <tr>\n",
       "      <th>4</th>\n",
       "      <td>0</td>\n",
       "      <td>key hr issues going forward</td>\n",
       "      <td>0</td>\n",
       "      <td>a ) year end reviews - report needs generating...</td>\n",
       "      <td>key hr issues going forward</td>\n",
       "    </tr>\n",
       "  </tbody>\n",
       "</table>\n",
       "</div>"
      ],
      "text/plain": [
       "   label                                            Subject  is_forwarded  \\\n",
       "0      0                       christmas tree farm pictures             0   \n",
       "1      0                                      re : rankings             0   \n",
       "2      0                       leadership development pilot             1   \n",
       "3      0  key dates and impact of upcoming sap implement...             0   \n",
       "4      0                        key hr issues going forward             0   \n",
       "\n",
       "                                          email_body  \\\n",
       "0                                          <NO_BODY>   \n",
       "1                                        thank you .   \n",
       "2  sally : what timing , ask and you shall receiv...   \n",
       "3  over the next few weeks , project apollo and b...   \n",
       "4  a ) year end reviews - report needs generating...   \n",
       "\n",
       "                                             subject  \n",
       "0                       christmas tree farm pictures  \n",
       "1                                      re : rankings  \n",
       "2                       leadership development pilot  \n",
       "3  key dates and impact of upcoming sap implement...  \n",
       "4                        key hr issues going forward  "
      ]
     },
     "execution_count": 134,
     "metadata": {},
     "output_type": "execute_result"
    }
   ],
   "source": [
    "df = pd.read_csv(\"ready_for_analysis.csv\")\n",
    "df.head()"
   ]
  },
  {
   "cell_type": "code",
   "execution_count": 135,
   "id": "49839378-ba3f-43f2-a6a5-8467e8069185",
   "metadata": {},
   "outputs": [],
   "source": [
    "def normalize_case(text):\n",
    "    if pd.isna(text) or text == \"<NO_BODY>\":\n",
    "        return \"\"\n",
    "    return text.lower()"
   ]
  },
  {
   "cell_type": "code",
   "execution_count": 136,
   "id": "30dc026c-7039-4d21-af35-7d185c981851",
   "metadata": {},
   "outputs": [],
   "source": [
    "def replace_links(text):\n",
    "    if pd.isna(text) or text == \"\":\n",
    "        return \"\"\n",
    "    text = re.sub(\n",
    "        r\"https?:\\/\\/\\S+\\.(com|fr|net|org|info|biz|co|uk|de|ru|cn|in|us|eu|tv|me|io|xyz|top|site|online|tech|store|app|live|news|email|click|link|space|website|club|today|world|digital|center|company|services|solutions|network|media|group|systems|agency|capital|finance|marketing|support|cloud|shop|blog|web|page|works|tools|zone|plus|press|fun|cool|expert|global|life|love|money|name|social|team|tips|trade|video|vip|wiki|win|work|pro|rocks|review|sale|school|show|studio|style|watch|webcam)\\b\\S*\",\n",
    "        \"<LINK>\",\n",
    "        text,\n",
    "        flags=re.IGNORECASE\n",
    "    )\n",
    "    text = re.sub(\n",
    "        r\"\\b\\S+\\.(com|fr|net|org|info|biz|co|uk|de|ru|cn|in|us|eu|tv|me|io|xyz)\\b\",\n",
    "        \"<LINK>\",\n",
    "        text,\n",
    "        flags=re.IGNORECASE\n",
    "    )\n",
    "    text = re.sub(\n",
    "        r\"\\b(http|https|www|com)\\b\",\n",
    "        \"<LINK>\",\n",
    "        text,\n",
    "        flags=re.IGNORECASE\n",
    "    )\n",
    "\n",
    "    return text.strip()"
   ]
  },
  {
   "cell_type": "code",
   "execution_count": 137,
   "id": "a3727012-acd6-46f5-b986-3fabea326d3c",
   "metadata": {},
   "outputs": [],
   "source": [
    "df['email_clean'] = df['email_body'].apply(normalize_case)\n",
    "df['email_clean'] = df['email_clean'].apply(replace_links)"
   ]
  },
  {
   "cell_type": "code",
   "execution_count": 138,
   "id": "b32b4d7b-c766-4d16-af3c-f41c3524775c",
   "metadata": {},
   "outputs": [
    {
     "name": "stdout",
     "output_type": "stream",
     "text": [
      "Emails containing <LINK>: 8929\n"
     ]
    }
   ],
   "source": [
    "link_count = df['email_clean'].str.contains(r'<LINK>', regex=True).sum()\n",
    "print(f\"Emails containing <LINK>: {link_count}\")"
   ]
  },
  {
   "cell_type": "code",
   "execution_count": 139,
   "id": "6b12f0aa-d04d-4112-a64d-c43268510b3d",
   "metadata": {},
   "outputs": [
    {
     "data": {
      "text/html": [
       "<div>\n",
       "<style scoped>\n",
       "    .dataframe tbody tr th:only-of-type {\n",
       "        vertical-align: middle;\n",
       "    }\n",
       "\n",
       "    .dataframe tbody tr th {\n",
       "        vertical-align: top;\n",
       "    }\n",
       "\n",
       "    .dataframe thead th {\n",
       "        text-align: right;\n",
       "    }\n",
       "</style>\n",
       "<table border=\"1\" class=\"dataframe\">\n",
       "  <thead>\n",
       "    <tr style=\"text-align: right;\">\n",
       "      <th></th>\n",
       "      <th>label</th>\n",
       "      <th>Subject</th>\n",
       "      <th>is_forwarded</th>\n",
       "      <th>email_body</th>\n",
       "      <th>subject</th>\n",
       "      <th>email_clean</th>\n",
       "    </tr>\n",
       "  </thead>\n",
       "  <tbody>\n",
       "    <tr>\n",
       "      <th>0</th>\n",
       "      <td>0</td>\n",
       "      <td>christmas tree farm pictures</td>\n",
       "      <td>0</td>\n",
       "      <td>&lt;NO_BODY&gt;</td>\n",
       "      <td>christmas tree farm pictures</td>\n",
       "      <td></td>\n",
       "    </tr>\n",
       "    <tr>\n",
       "      <th>1</th>\n",
       "      <td>0</td>\n",
       "      <td>re : rankings</td>\n",
       "      <td>0</td>\n",
       "      <td>thank you .</td>\n",
       "      <td>re : rankings</td>\n",
       "      <td>thank you .</td>\n",
       "    </tr>\n",
       "    <tr>\n",
       "      <th>2</th>\n",
       "      <td>0</td>\n",
       "      <td>leadership development pilot</td>\n",
       "      <td>1</td>\n",
       "      <td>sally : what timing , ask and you shall receiv...</td>\n",
       "      <td>leadership development pilot</td>\n",
       "      <td>sally : what timing , ask and you shall receiv...</td>\n",
       "    </tr>\n",
       "    <tr>\n",
       "      <th>3</th>\n",
       "      <td>0</td>\n",
       "      <td>key dates and impact of upcoming sap implement...</td>\n",
       "      <td>0</td>\n",
       "      <td>over the next few weeks , project apollo and b...</td>\n",
       "      <td>key dates and impact of upcoming sap implement...</td>\n",
       "      <td>over the next few weeks , project apollo and b...</td>\n",
       "    </tr>\n",
       "    <tr>\n",
       "      <th>4</th>\n",
       "      <td>0</td>\n",
       "      <td>key hr issues going forward</td>\n",
       "      <td>0</td>\n",
       "      <td>a ) year end reviews - report needs generating...</td>\n",
       "      <td>key hr issues going forward</td>\n",
       "      <td>a ) year end reviews - report needs generating...</td>\n",
       "    </tr>\n",
       "  </tbody>\n",
       "</table>\n",
       "</div>"
      ],
      "text/plain": [
       "   label                                            Subject  is_forwarded  \\\n",
       "0      0                       christmas tree farm pictures             0   \n",
       "1      0                                      re : rankings             0   \n",
       "2      0                       leadership development pilot             1   \n",
       "3      0  key dates and impact of upcoming sap implement...             0   \n",
       "4      0                        key hr issues going forward             0   \n",
       "\n",
       "                                          email_body  \\\n",
       "0                                          <NO_BODY>   \n",
       "1                                        thank you .   \n",
       "2  sally : what timing , ask and you shall receiv...   \n",
       "3  over the next few weeks , project apollo and b...   \n",
       "4  a ) year end reviews - report needs generating...   \n",
       "\n",
       "                                             subject  \\\n",
       "0                       christmas tree farm pictures   \n",
       "1                                      re : rankings   \n",
       "2                       leadership development pilot   \n",
       "3  key dates and impact of upcoming sap implement...   \n",
       "4                        key hr issues going forward   \n",
       "\n",
       "                                         email_clean  \n",
       "0                                                     \n",
       "1                                        thank you .  \n",
       "2  sally : what timing , ask and you shall receiv...  \n",
       "3  over the next few weeks , project apollo and b...  \n",
       "4  a ) year end reviews - report needs generating...  "
      ]
     },
     "execution_count": 139,
     "metadata": {},
     "output_type": "execute_result"
    }
   ],
   "source": [
    "df.head()"
   ]
  },
  {
   "cell_type": "code",
   "execution_count": 140,
   "id": "7b512f5a-9a69-4a3f-b106-59a628a8b326",
   "metadata": {},
   "outputs": [],
   "source": [
    "def find_valid_dates(text):\n",
    "    if pd.isna(text):\n",
    "        return []\n",
    "    raw_matches = re.findall(\n",
    "        r'\\b(?:\\d{1,2}[/-]\\d{1,2}[/-]\\d{2,4}|\\d{4}-\\d{2}-\\d{2}|\\d{1,2}\\s+\\w+\\s+\\d{2,4}|\\w+\\s+\\d{1,2},\\s+\\d{4})\\b',\n",
    "        text\n",
    "    )\n",
    "\n",
    "    # Validate using dateutil\n",
    "    valid_dates = []\n",
    "    for match in raw_matches:\n",
    "        try:\n",
    "            parse(match, fuzzy=False)\n",
    "            valid_dates.append(match)\n",
    "        except:\n",
    "            continue\n",
    "\n",
    "    return valid_dates"
   ]
  },
  {
   "cell_type": "code",
   "execution_count": 141,
   "id": "c4878aab-e9d1-4c12-be0c-ccfcbbaec8e6",
   "metadata": {},
   "outputs": [],
   "source": [
    "df['dates_in_subject'] = df['Subject'].apply(find_valid_dates)\n",
    "df['dates_in_email'] = df['email_clean'].apply(find_valid_dates)"
   ]
  },
  {
   "cell_type": "code",
   "execution_count": 142,
   "id": "26057ac7-4a4c-458b-86bc-9281ebd162cb",
   "metadata": {},
   "outputs": [
    {
     "name": "stdout",
     "output_type": "stream",
     "text": [
      "Total valid date mentions: 1676\n"
     ]
    }
   ],
   "source": [
    "total_dates = df['dates_in_subject'].apply(len).sum() + df['dates_in_email'].apply(len).sum()\n",
    "print(f\"Total valid date mentions: {total_dates}\")"
   ]
  },
  {
   "cell_type": "code",
   "execution_count": 143,
   "id": "837247dd-6dfb-445c-b3c9-c21bd3e3a938",
   "metadata": {},
   "outputs": [],
   "source": [
    "def normalize_dates(text):\n",
    "    if pd.isna(text):\n",
    "        return text\n",
    "    raw_matches = re.findall(\n",
    "        r'\\b(?:\\d{1,2}[/-]\\d{1,2}[/-]\\d{2,4}|\\d{4}-\\d{2}-\\d{2}|\\d{1,2}\\s+\\w+\\s+\\d{2,4}|\\w+\\s+\\d{1,2},\\s+\\d{4})\\b',\n",
    "        text\n",
    "    )\n",
    "    for match in raw_matches:\n",
    "        try:\n",
    "            parse(match, fuzzy=False)\n",
    "            text = text.replace(match, '<DATE>')\n",
    "        except:\n",
    "            continue\n",
    "\n",
    "    return text\n",
    "df['email_clean'] = df['email_clean'].apply(normalize_dates)\n",
    "df['Subject'] = df['Subject'].apply(normalize_dates)"
   ]
  },
  {
   "cell_type": "code",
   "execution_count": 144,
   "id": "927c1097-db6c-4ea9-a377-76d7191996c4",
   "metadata": {},
   "outputs": [],
   "source": [
    "def normalize_numbers(text):\n",
    "    if pd.isna(text):\n",
    "        return text\n",
    "    return re.sub(r'\\b\\d+(\\.\\d+)?\\b', '<NUMBER>', text)"
   ]
  },
  {
   "cell_type": "code",
   "execution_count": 145,
   "id": "8bf4d30b-8d51-4c8a-8dd9-396c6d7e7c37",
   "metadata": {},
   "outputs": [],
   "source": [
    "df['email_clean'] = df['email_clean'].apply(normalize_numbers)"
   ]
  },
  {
   "cell_type": "code",
   "execution_count": 146,
   "id": "654bd603-23d8-41b7-bf8e-1cce0f80b33e",
   "metadata": {},
   "outputs": [],
   "source": [
    "df = df.drop(columns=[\"dates_in_email\", \"dates_in_subject\"])"
   ]
  },
  {
   "cell_type": "code",
   "execution_count": 147,
   "id": "72124b76-4ed1-4fae-bb1d-381407e62f45",
   "metadata": {},
   "outputs": [],
   "source": [
    "df['email_clean'] = df['email_clean'].dropna().apply(lambda x: re.sub(money_pattern, '<MONEY>', x, flags=re.IGNORECASE))\n",
    "df['Subject'] = df['Subject'].dropna().apply(lambda x: re.sub(money_pattern, '<MONEY>', x, flags=re.IGNORECASE))"
   ]
  },
  {
   "cell_type": "code",
   "execution_count": 148,
   "id": "7d1e1384-e219-46a5-890e-6bbff362b115",
   "metadata": {},
   "outputs": [
    {
     "name": "stdout",
     "output_type": "stream",
     "text": [
      "Total email mentions: 0\n"
     ]
    }
   ],
   "source": [
    "email_pattern = r'\\b[A-Za-z0-9._%+-]+@[A-Za-z0-9.-]+\\.[A-Za-z]{2,}\\b'\n",
    "\n",
    "email_matches_count = df['email_clean'].dropna().apply(lambda x: len(re.findall(email_pattern, x))).sum()\n",
    "subject_matches_count = df['Subject'].dropna().apply(lambda x: len(re.findall(email_pattern, x))).sum()\n",
    "\n",
    "total_email_mentions = email_matches_count + subject_matches_count\n",
    "print(f\"Total email mentions: {total_email_mentions}\")"
   ]
  },
  {
   "cell_type": "code",
   "execution_count": 149,
   "id": "139c8daf-d63b-4163-99cc-42386ddfc1f9",
   "metadata": {},
   "outputs": [],
   "source": [
    "df['email_clean'] = df['email_clean'].dropna().apply(lambda x: x.translate(str.maketrans('', '', string.punctuation)))\n",
    "df['Subject'] = df['Subject'].dropna().apply(lambda x: x.translate(str.maketrans('', '', string.punctuation)))\n"
   ]
  },
  {
   "cell_type": "code",
   "execution_count": 150,
   "id": "6532d654-d84e-41ec-881a-88269350d0ef",
   "metadata": {},
   "outputs": [],
   "source": [
    "df['email_clean'] = df['email_clean'].dropna().apply(lambda x: re.sub(r'([!?.,])\\1+', r'\\1', x))\n",
    "df['Subject'] = df['Subject'].dropna().apply(lambda x: re.sub(r'([!?.,])\\1+', r'\\1', x))"
   ]
  },
  {
   "cell_type": "code",
   "execution_count": 151,
   "id": "5bbbbbc9-7fde-4936-8ae9-32603763d60e",
   "metadata": {},
   "outputs": [],
   "source": [
    "df['email_clean'] = df['email_clean'].dropna().apply(lambda x: re.sub(r'[,\";:(){}[\\]]+', '', x))\n",
    "df['Subject'] = df['Subject'].dropna().apply(lambda x: re.sub(r'[,\";:(){}[\\]]+', '', x))"
   ]
  },
  {
   "cell_type": "code",
   "execution_count": 152,
   "id": "3501797d-f010-4419-ad5d-3f9ce625741b",
   "metadata": {},
   "outputs": [
    {
     "data": {
      "text/html": [
       "<div>\n",
       "<style scoped>\n",
       "    .dataframe tbody tr th:only-of-type {\n",
       "        vertical-align: middle;\n",
       "    }\n",
       "\n",
       "    .dataframe tbody tr th {\n",
       "        vertical-align: top;\n",
       "    }\n",
       "\n",
       "    .dataframe thead th {\n",
       "        text-align: right;\n",
       "    }\n",
       "</style>\n",
       "<table border=\"1\" class=\"dataframe\">\n",
       "  <thead>\n",
       "    <tr style=\"text-align: right;\">\n",
       "      <th></th>\n",
       "      <th>label</th>\n",
       "      <th>Subject</th>\n",
       "      <th>is_forwarded</th>\n",
       "      <th>email_body</th>\n",
       "      <th>subject</th>\n",
       "      <th>email_clean</th>\n",
       "    </tr>\n",
       "  </thead>\n",
       "  <tbody>\n",
       "    <tr>\n",
       "      <th>0</th>\n",
       "      <td>0</td>\n",
       "      <td>christmas tree farm pictures</td>\n",
       "      <td>0</td>\n",
       "      <td>&lt;NO_BODY&gt;</td>\n",
       "      <td>christmas tree farm pictures</td>\n",
       "      <td></td>\n",
       "    </tr>\n",
       "    <tr>\n",
       "      <th>1</th>\n",
       "      <td>0</td>\n",
       "      <td>re  rankings</td>\n",
       "      <td>0</td>\n",
       "      <td>thank you .</td>\n",
       "      <td>re : rankings</td>\n",
       "      <td>thank you</td>\n",
       "    </tr>\n",
       "    <tr>\n",
       "      <th>2</th>\n",
       "      <td>0</td>\n",
       "      <td>leadership development pilot</td>\n",
       "      <td>1</td>\n",
       "      <td>sally : what timing , ask and you shall receiv...</td>\n",
       "      <td>leadership development pilot</td>\n",
       "      <td>sally  what timing  ask and you shall receive ...</td>\n",
       "    </tr>\n",
       "    <tr>\n",
       "      <th>3</th>\n",
       "      <td>0</td>\n",
       "      <td>key dates and impact of upcoming sap implement...</td>\n",
       "      <td>0</td>\n",
       "      <td>over the next few weeks , project apollo and b...</td>\n",
       "      <td>key dates and impact of upcoming sap implement...</td>\n",
       "      <td>over the next few weeks  project apollo and be...</td>\n",
       "    </tr>\n",
       "    <tr>\n",
       "      <th>4</th>\n",
       "      <td>0</td>\n",
       "      <td>key hr issues going forward</td>\n",
       "      <td>0</td>\n",
       "      <td>a ) year end reviews - report needs generating...</td>\n",
       "      <td>key hr issues going forward</td>\n",
       "      <td>a  year end reviews  report needs generating l...</td>\n",
       "    </tr>\n",
       "  </tbody>\n",
       "</table>\n",
       "</div>"
      ],
      "text/plain": [
       "   label                                            Subject  is_forwarded  \\\n",
       "0      0                       christmas tree farm pictures             0   \n",
       "1      0                                       re  rankings             0   \n",
       "2      0                       leadership development pilot             1   \n",
       "3      0  key dates and impact of upcoming sap implement...             0   \n",
       "4      0                        key hr issues going forward             0   \n",
       "\n",
       "                                          email_body  \\\n",
       "0                                          <NO_BODY>   \n",
       "1                                        thank you .   \n",
       "2  sally : what timing , ask and you shall receiv...   \n",
       "3  over the next few weeks , project apollo and b...   \n",
       "4  a ) year end reviews - report needs generating...   \n",
       "\n",
       "                                             subject  \\\n",
       "0                       christmas tree farm pictures   \n",
       "1                                      re : rankings   \n",
       "2                       leadership development pilot   \n",
       "3  key dates and impact of upcoming sap implement...   \n",
       "4                        key hr issues going forward   \n",
       "\n",
       "                                         email_clean  \n",
       "0                                                     \n",
       "1                                         thank you   \n",
       "2  sally  what timing  ask and you shall receive ...  \n",
       "3  over the next few weeks  project apollo and be...  \n",
       "4  a  year end reviews  report needs generating l...  "
      ]
     },
     "execution_count": 152,
     "metadata": {},
     "output_type": "execute_result"
    }
   ],
   "source": [
    "df.head()"
   ]
  },
  {
   "cell_type": "code",
   "execution_count": 153,
   "id": "7a582446-02dc-4302-b0ff-72251fcd0da9",
   "metadata": {},
   "outputs": [],
   "source": [
    "df = df.drop(columns = [\"subject\",\"email_body\"])"
   ]
  },
  {
   "cell_type": "code",
   "execution_count": 158,
   "id": "142f9b3e-80d4-4171-9c1e-2fcdbc5e2165",
   "metadata": {},
   "outputs": [],
   "source": [
    "df = df.fillna('')\n",
    "text_cols = ['Subject', 'email_clean']  # add other text columns if needed\n",
    "df[text_cols] = df[text_cols].apply(lambda x: x.str.strip())\n",
    "df.to_csv('ready_for_training.csv', index=False)"
   ]
  }
 ],
 "metadata": {
  "kernelspec": {
   "display_name": "Python 3 (ipykernel)",
   "language": "python",
   "name": "python3"
  },
  "language_info": {
   "codemirror_mode": {
    "name": "ipython",
    "version": 3
   },
   "file_extension": ".py",
   "mimetype": "text/x-python",
   "name": "python",
   "nbconvert_exporter": "python",
   "pygments_lexer": "ipython3",
   "version": "3.13.5"
  }
 },
 "nbformat": 4,
 "nbformat_minor": 5
}
